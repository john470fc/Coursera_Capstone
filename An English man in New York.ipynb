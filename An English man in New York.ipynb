{
    "cells": [
        {
            "metadata": {
                "collapsed": true
            },
            "cell_type": "markdown",
            "source": "# An English man in New York"
        },
        {
            "metadata": {},
            "cell_type": "markdown",
            "source": "## Capstone Project: The Battle of Neighborhoods.\nThis is the final assignment of the Applied Data Science Capstone Course by IBM on Coursera."
        },
        {
            "metadata": {},
            "cell_type": "markdown",
            "source": "## Intorduction"
        },
        {
            "metadata": {},
            "cell_type": "markdown",
            "source": "Introduction where you discuss the business problem and who would be interested in this project."
        },
        {
            "metadata": {},
            "cell_type": "markdown",
            "source": "## Data"
        },
        {
            "metadata": {},
            "cell_type": "markdown",
            "source": "Data where you describe the data that will be used to solve the problem and the source of the data."
        },
        {
            "metadata": {},
            "cell_type": "markdown",
            "source": "## Methodology"
        },
        {
            "metadata": {},
            "cell_type": "markdown",
            "source": "Methodology section which represents the main component of the report where you discuss and describe any exploratory data analysis that you did, any inferential statistical testing that you performed, if any, and what machine learnings were used and why."
        },
        {
            "metadata": {},
            "cell_type": "markdown",
            "source": "## Results"
        },
        {
            "metadata": {},
            "cell_type": "markdown",
            "source": "Results section where you discuss the results."
        },
        {
            "metadata": {},
            "cell_type": "markdown",
            "source": "## Discussion / Observations"
        },
        {
            "metadata": {},
            "cell_type": "markdown",
            "source": "Discussion section where you discuss any observations you noted and any recommendations you can make based on the results."
        },
        {
            "metadata": {},
            "cell_type": "markdown",
            "source": "## Conclusion"
        },
        {
            "metadata": {},
            "cell_type": "markdown",
            "source": "Conclusion section where you conclude the report."
        },
        {
            "metadata": {},
            "cell_type": "code",
            "source": "",
            "execution_count": null,
            "outputs": []
        }
    ],
    "metadata": {
        "kernelspec": {
            "name": "python3",
            "display_name": "Python 3.7",
            "language": "python"
        },
        "language_info": {
            "name": "python",
            "version": "3.7.10",
            "mimetype": "text/x-python",
            "codemirror_mode": {
                "name": "ipython",
                "version": 3
            },
            "pygments_lexer": "ipython3",
            "nbconvert_exporter": "python",
            "file_extension": ".py"
        }
    },
    "nbformat": 4,
    "nbformat_minor": 1
}