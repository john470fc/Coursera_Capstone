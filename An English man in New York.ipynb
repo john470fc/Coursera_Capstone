{
    "cells": [
        {
            "metadata": {
                "collapsed": true
            },
            "cell_type": "markdown",
            "source": "# An English man in New York"
        },
        {
            "metadata": {},
            "cell_type": "markdown",
            "source": "## Capstone Project: The Battle of Neighborhoods.\nThis is the final assignment of the Applied Data Science Capstone Course by IBM on Coursera."
        },
        {
            "metadata": {},
            "cell_type": "markdown",
            "source": "## Intorduction"
        },
        {
            "metadata": {},
            "cell_type": "markdown",
            "source": "Introduction where you discuss the business problem and who would be interested in this project."
        },
        {
            "metadata": {},
            "cell_type": "markdown",
            "source": "## Data"
        },
        {
            "metadata": {},
            "cell_type": "markdown",
            "source": "Data where you describe the data that will be used to solve the problem and the source of the data."
        },
        {
            "metadata": {},
            "cell_type": "markdown",
            "source": "## Methodology"
        },
        {
            "metadata": {},
            "cell_type": "markdown",
            "source": "Methodology section which represents the main component of the report where you discuss and describe any exploratory data analysis that you did, any inferential statistical testing that you performed, if any, and what machine learnings were used and why."
        },
        {
            "metadata": {},
            "cell_type": "markdown",
            "source": "## Import required librarys"
        },
        {
            "metadata": {},
            "cell_type": "code",
            "source": "import numpy as np # library to handle data in a vectorized manner\n\nimport pandas as pd # library for data analsysis\npd.set_option('display.max_columns', None)\npd.set_option('display.max_rows', None)\n\nimport requests # library to handle requests\n\n#from bs4 import BeautifulSoup\nimport os\n\n!conda install -c conda-forge folium=0.5.0 --yes\nimport folium # map rendering library\n\n#!conda install -c conda-forge geopy --yes\nfrom geopy.geocoders import Nominatim # convert an address into latitude and longitude values\nimport requests # library to handle requests\n\n# Matplotlib and associated plotting modules\nimport matplotlib.pyplot as plt\nimport matplotlib.cm as cm\nimport matplotlib.colors as colors\n%matplotlib inline\n\nimport seaborn as sns\n\nprint('Libraries imported.')",
            "execution_count": null,
            "outputs": []
        },
        {
            "metadata": {},
            "cell_type": "markdown",
            "source": "## Results"
        },
        {
            "metadata": {},
            "cell_type": "markdown",
            "source": "Results section where you discuss the results."
        },
        {
            "metadata": {},
            "cell_type": "markdown",
            "source": "## Discussion / Observations"
        },
        {
            "metadata": {},
            "cell_type": "markdown",
            "source": "Discussion section where you discuss any observations you noted and any recommendations you can make based on the results."
        },
        {
            "metadata": {},
            "cell_type": "markdown",
            "source": "## Conclusion"
        },
        {
            "metadata": {},
            "cell_type": "markdown",
            "source": "Conclusion section where you conclude the report."
        },
        {
            "metadata": {},
            "cell_type": "code",
            "source": "",
            "execution_count": null,
            "outputs": []
        }
    ],
    "metadata": {
        "kernelspec": {
            "name": "python3",
            "display_name": "Python 3.7",
            "language": "python"
        },
        "language_info": {
            "name": "python",
            "version": "3.7.10",
            "mimetype": "text/x-python",
            "codemirror_mode": {
                "name": "ipython",
                "version": 3
            },
            "pygments_lexer": "ipython3",
            "nbconvert_exporter": "python",
            "file_extension": ".py"
        }
    },
    "nbformat": 4,
    "nbformat_minor": 1
}